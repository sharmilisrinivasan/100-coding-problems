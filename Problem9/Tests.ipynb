{
 "cells": [
  {
   "cell_type": "code",
   "execution_count": 1,
   "metadata": {
    "collapsed": true
   },
   "outputs": [],
   "source": [
    "from eq_solver import create_tree\n",
    "from eq_solver import EqSolver\n",
    "import json"
   ]
  },
  {
   "cell_type": "code",
   "execution_count": 2,
   "metadata": {
    "collapsed": true
   },
   "outputs": [],
   "source": [
    "def print_output(json_file):\n",
    "    data = json.load(open(json_file, \"r\"))\n",
    "    eq_given = create_tree(data)\n",
    "    print \"Given expersion is: {}\".format(eq_given)\n",
    "    eq_solved=EqSolver(eq_given).solve()\n",
    "    print \"Solved expression is: {}\".format(eq_solved)\n",
    "    print \"Value of X is: {}\".format(eq_solved.get_x_val())"
   ]
  },
  {
   "cell_type": "code",
   "execution_count": 3,
   "metadata": {},
   "outputs": [
    {
     "name": "stdout",
     "output_type": "stream",
     "text": [
      "Given expersion is: (60-(90/(x/30)))/(1*3)=10\n",
      "Solved expression is: x=(90/(60-(10*(1*3))))*30\n",
      "Value of X is: 90\n"
     ]
    }
   ],
   "source": [
    "print_output(\"sample_1.json\")"
   ]
  },
  {
   "cell_type": "code",
   "execution_count": 4,
   "metadata": {},
   "outputs": [
    {
     "name": "stdout",
     "output_type": "stream",
     "text": [
      "Given expersion is: 1+(x*10)=21\n",
      "Solved expression is: x=(21-1)/10\n",
      "Value of X is: 2\n"
     ]
    }
   ],
   "source": [
    "print_output(\"sample_2.json\")"
   ]
  },
  {
   "cell_type": "code",
   "execution_count": null,
   "metadata": {
    "collapsed": true
   },
   "outputs": [],
   "source": []
  }
 ],
 "metadata": {
  "kernelspec": {
   "display_name": "Python 2",
   "language": "python",
   "name": "python2"
  },
  "language_info": {
   "codemirror_mode": {
    "name": "ipython",
    "version": 2
   },
   "file_extension": ".py",
   "mimetype": "text/x-python",
   "name": "python",
   "nbconvert_exporter": "python",
   "pygments_lexer": "ipython2",
   "version": "2.7.13"
  }
 },
 "nbformat": 4,
 "nbformat_minor": 2
}
